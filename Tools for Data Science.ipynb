{
    "cells": [
        {
            "cell_type": "markdown",
            "metadata": {},
            "source": "# My Jupyter Notebook on IBM Watson Studio"
        },
        {
            "cell_type": "markdown",
            "metadata": {},
            "source": "**Priyanka Chatterjee**\n\nData Analyst"
        },
        {
            "cell_type": "markdown",
            "metadata": {},
            "source": "*I am interested in data science because I am passionate about Data. Truely speaking,so far in my career I only performed Data Related Roles and Responsibilities effectively and with Interest.*"
        },
        {
            "cell_type": "markdown",
            "metadata": {},
            "source": "### Below code will give you Full Name after Concatinating First and LastName"
        },
        {
            "cell_type": "code",
            "execution_count": 11,
            "metadata": {},
            "outputs": [
                {
                    "name": "stdout",
                    "output_type": "stream",
                    "text": "Robert Maleki\n"
                }
            ],
            "source": "Firstname=\"Robert\"\nLastname=\"Maleki\"\nprint(Firstname+\" \"+Lastname)"
        },
        {
            "cell_type": "markdown",
            "metadata": {},
            "source": "[Hello Google](https://www.google.co.in/)\n\n\n| Type of Tool  | | Name of Tool  | | Used In Project|\n|----------| |-------| |----|\n| DataVisualization | | Tableau | | No |\n| DataVisualization | | PowerBi | | Yes |\n\n\n1. Julia \n2. Python \n3. R\n4. SQL\n\n> Python is most widely used coding language for Data Science,followed by R.\n\n> SQL is used to Interact with Data\n\n~Coding is mandatory skill for Data Analysts~\n\n"
        },
        {
            "cell_type": "code",
            "execution_count": null,
            "metadata": {},
            "outputs": [],
            "source": ""
        }
    ],
    "metadata": {
        "kernelspec": {
            "display_name": "Python 3.9",
            "language": "python",
            "name": "python3"
        },
        "language_info": {
            "codemirror_mode": {
                "name": "ipython",
                "version": 3
            },
            "file_extension": ".py",
            "mimetype": "text/x-python",
            "name": "python",
            "nbconvert_exporter": "python",
            "pygments_lexer": "ipython3",
            "version": "3.9.13"
        }
    },
    "nbformat": 4,
    "nbformat_minor": 1
}